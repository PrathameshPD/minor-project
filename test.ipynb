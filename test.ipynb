{
 "cells": [
  {
   "cell_type": "code",
   "execution_count": 6,
   "metadata": {},
   "outputs": [
    {
     "name": "stdout",
     "output_type": "stream",
     "text": [
      "<class 'module'>\n",
      "<class 'module'>\n"
     ]
    }
   ],
   "source": [
    "import pandas as p , numpy as n , csv\n",
    "print(type(p))\n",
    "print(type(n))\n"
   ]
  },
  {
   "cell_type": "code",
   "execution_count": 9,
   "metadata": {},
   "outputs": [],
   "source": [
    "df = p.read_excel(\"C:\\\\Users\\\\Panda\\\\Desktop\\\\Fastag.xlsx\")"
   ]
  },
  {
   "cell_type": "code",
   "execution_count": 10,
   "metadata": {},
   "outputs": [
    {
     "data": {
      "text/html": [
       "<div>\n",
       "<style scoped>\n",
       "    .dataframe tbody tr th:only-of-type {\n",
       "        vertical-align: middle;\n",
       "    }\n",
       "\n",
       "    .dataframe tbody tr th {\n",
       "        vertical-align: top;\n",
       "    }\n",
       "\n",
       "    .dataframe thead th {\n",
       "        text-align: right;\n",
       "    }\n",
       "</style>\n",
       "<table border=\"1\" class=\"dataframe\">\n",
       "  <thead>\n",
       "    <tr style=\"text-align: right;\">\n",
       "      <th></th>\n",
       "      <th>Transaction ID</th>\n",
       "      <th>Timestamp</th>\n",
       "      <th>Vehicle Type</th>\n",
       "      <th>FastagID</th>\n",
       "      <th>Toll Booth ID</th>\n",
       "      <th>Lane Type</th>\n",
       "      <th>Vechicle Dimensions</th>\n",
       "      <th>Transaction Amount</th>\n",
       "      <th>Distance Traveled</th>\n",
       "      <th>Geographical Location</th>\n",
       "      <th>Vechicle Speed</th>\n",
       "      <th>Vehicle Plate Number</th>\n",
       "    </tr>\n",
       "  </thead>\n",
       "  <tbody>\n",
       "    <tr>\n",
       "      <th>0</th>\n",
       "      <td>1</td>\n",
       "      <td>2023-01-01 08:15:30</td>\n",
       "      <td>Bus</td>\n",
       "      <td>FTG-001-ABC-123</td>\n",
       "      <td>245</td>\n",
       "      <td>Express</td>\n",
       "      <td>Large</td>\n",
       "      <td>340</td>\n",
       "      <td>45.3</td>\n",
       "      <td>13°17'45.2\"N 77°32'09.4\"E</td>\n",
       "      <td>65</td>\n",
       "      <td>KA02AB1234</td>\n",
       "    </tr>\n",
       "    <tr>\n",
       "      <th>1</th>\n",
       "      <td>2</td>\n",
       "      <td>2023-02-05 12:42:18</td>\n",
       "      <td>Car</td>\n",
       "      <td>FTG-002-XYZ-456</td>\n",
       "      <td>109</td>\n",
       "      <td>Regular</td>\n",
       "      <td>Small</td>\n",
       "      <td>100</td>\n",
       "      <td>102.7</td>\n",
       "      <td>13°17'45.2\"N 77°32'09.4\"E</td>\n",
       "      <td>78</td>\n",
       "      <td>KA05CD5678</td>\n",
       "    </tr>\n",
       "    <tr>\n",
       "      <th>2</th>\n",
       "      <td>3</td>\n",
       "      <td>2023-03-12 16:20:45</td>\n",
       "      <td>Motorcycle</td>\n",
       "      <td>FTG-003-PQR-789</td>\n",
       "      <td>372</td>\n",
       "      <td>Express</td>\n",
       "      <td>Small</td>\n",
       "      <td>0</td>\n",
       "      <td>75.1</td>\n",
       "      <td>13°17'45.2\"N 77°32'09.4\"E</td>\n",
       "      <td>53</td>\n",
       "      <td>KA08EF9012</td>\n",
       "    </tr>\n",
       "    <tr>\n",
       "      <th>3</th>\n",
       "      <td>4</td>\n",
       "      <td>2023-04-20 09:55:02</td>\n",
       "      <td>Truck</td>\n",
       "      <td>FTG-004-LMN-321</td>\n",
       "      <td>501</td>\n",
       "      <td>Regular</td>\n",
       "      <td>Large</td>\n",
       "      <td>340</td>\n",
       "      <td>32.5</td>\n",
       "      <td>13°17'45.2\"N 77°32'09.4\"E</td>\n",
       "      <td>92</td>\n",
       "      <td>KA11GH3456</td>\n",
       "    </tr>\n",
       "    <tr>\n",
       "      <th>4</th>\n",
       "      <td>5</td>\n",
       "      <td>2023-05-25 14:30:27</td>\n",
       "      <td>Van</td>\n",
       "      <td>FTG-005-DEF-654</td>\n",
       "      <td>893</td>\n",
       "      <td>Express</td>\n",
       "      <td>Medium</td>\n",
       "      <td>120</td>\n",
       "      <td>89.8</td>\n",
       "      <td>13°17'45.2\"N 77°32'09.4\"E</td>\n",
       "      <td>60</td>\n",
       "      <td>KA14IJ6789</td>\n",
       "    </tr>\n",
       "    <tr>\n",
       "      <th>...</th>\n",
       "      <td>...</td>\n",
       "      <td>...</td>\n",
       "      <td>...</td>\n",
       "      <td>...</td>\n",
       "      <td>...</td>\n",
       "      <td>...</td>\n",
       "      <td>...</td>\n",
       "      <td>...</td>\n",
       "      <td>...</td>\n",
       "      <td>...</td>\n",
       "      <td>...</td>\n",
       "      <td>...</td>\n",
       "    </tr>\n",
       "    <tr>\n",
       "      <th>1495</th>\n",
       "      <td>1496</td>\n",
       "      <td>2023-02-23 15:15:00</td>\n",
       "      <td>Van</td>\n",
       "      <td>FTG-273-UIP-132</td>\n",
       "      <td>176</td>\n",
       "      <td>Regular</td>\n",
       "      <td>Medium</td>\n",
       "      <td>120</td>\n",
       "      <td>88.0</td>\n",
       "      <td>13°17'45.2\"N 77°32'09.4\"E</td>\n",
       "      <td>78</td>\n",
       "      <td>KA79EF0123</td>\n",
       "    </tr>\n",
       "    <tr>\n",
       "      <th>1496</th>\n",
       "      <td>1497</td>\n",
       "      <td>2023-02-24 17:30:15</td>\n",
       "      <td>Sedan</td>\n",
       "      <td>FTG-780-ERT-132</td>\n",
       "      <td>628</td>\n",
       "      <td>Express</td>\n",
       "      <td>Medium</td>\n",
       "      <td>130</td>\n",
       "      <td>55.0</td>\n",
       "      <td>13°17'45.2\"N 77°32'09.4\"E</td>\n",
       "      <td>65</td>\n",
       "      <td>KA82GH4567</td>\n",
       "    </tr>\n",
       "    <tr>\n",
       "      <th>1497</th>\n",
       "      <td>1498</td>\n",
       "      <td>2023-02-25 19:45:30</td>\n",
       "      <td>SUV</td>\n",
       "      <td>FTG-900-UTY-145</td>\n",
       "      <td>437</td>\n",
       "      <td>Regular</td>\n",
       "      <td>Large</td>\n",
       "      <td>150</td>\n",
       "      <td>102.0</td>\n",
       "      <td>13°17'45.2\"N 77°32'09.4\"E</td>\n",
       "      <td>92</td>\n",
       "      <td>KA85IJ8901</td>\n",
       "    </tr>\n",
       "    <tr>\n",
       "      <th>1498</th>\n",
       "      <td>1499</td>\n",
       "      <td>2023-02-26 22:15:45</td>\n",
       "      <td>Bus</td>\n",
       "      <td>FTG-456-ETR-185</td>\n",
       "      <td>892</td>\n",
       "      <td>Express</td>\n",
       "      <td>Large</td>\n",
       "      <td>340</td>\n",
       "      <td>43.0</td>\n",
       "      <td>13°17'45.2\"N 77°32'09.4\"E</td>\n",
       "      <td>51</td>\n",
       "      <td>KA88KL2345</td>\n",
       "    </tr>\n",
       "    <tr>\n",
       "      <th>1499</th>\n",
       "      <td>1500</td>\n",
       "      <td>2023-02-28 00:30:00</td>\n",
       "      <td>Car</td>\n",
       "      <td>FTG-678-AGH-458</td>\n",
       "      <td>381</td>\n",
       "      <td>Regular</td>\n",
       "      <td>Small</td>\n",
       "      <td>100</td>\n",
       "      <td>75.0</td>\n",
       "      <td>13°17'45.2\"N 77°32'09.4\"E</td>\n",
       "      <td>76</td>\n",
       "      <td>KA91MN6789</td>\n",
       "    </tr>\n",
       "  </tbody>\n",
       "</table>\n",
       "<p>1500 rows × 12 columns</p>\n",
       "</div>"
      ],
      "text/plain": [
       "      Transaction ID           Timestamp Vehicle Type         FastagID  \\\n",
       "0                  1 2023-01-01 08:15:30         Bus   FTG-001-ABC-123   \n",
       "1                  2 2023-02-05 12:42:18          Car  FTG-002-XYZ-456   \n",
       "2                  3 2023-03-12 16:20:45   Motorcycle  FTG-003-PQR-789   \n",
       "3                  4 2023-04-20 09:55:02        Truck  FTG-004-LMN-321   \n",
       "4                  5 2023-05-25 14:30:27          Van  FTG-005-DEF-654   \n",
       "...              ...                 ...          ...              ...   \n",
       "1495            1496 2023-02-23 15:15:00          Van  FTG-273-UIP-132   \n",
       "1496            1497 2023-02-24 17:30:15        Sedan  FTG-780-ERT-132   \n",
       "1497            1498 2023-02-25 19:45:30          SUV  FTG-900-UTY-145   \n",
       "1498            1499 2023-02-26 22:15:45         Bus   FTG-456-ETR-185   \n",
       "1499            1500 2023-02-28 00:30:00          Car  FTG-678-AGH-458   \n",
       "\n",
       "      Toll Booth ID Lane Type Vechicle Dimensions  Transaction Amount  \\\n",
       "0               245   Express               Large                 340   \n",
       "1               109   Regular               Small                 100   \n",
       "2               372   Express               Small                   0   \n",
       "3               501   Regular               Large                 340   \n",
       "4               893   Express              Medium                 120   \n",
       "...             ...       ...                 ...                 ...   \n",
       "1495            176   Regular              Medium                 120   \n",
       "1496            628   Express              Medium                 130   \n",
       "1497            437   Regular               Large                 150   \n",
       "1498            892   Express               Large                 340   \n",
       "1499            381   Regular               Small                 100   \n",
       "\n",
       "      Distance Traveled      Geographical Location  Vechicle Speed  \\\n",
       "0                  45.3  13°17'45.2\"N 77°32'09.4\"E              65   \n",
       "1                 102.7  13°17'45.2\"N 77°32'09.4\"E              78   \n",
       "2                  75.1  13°17'45.2\"N 77°32'09.4\"E              53   \n",
       "3                  32.5  13°17'45.2\"N 77°32'09.4\"E              92   \n",
       "4                  89.8  13°17'45.2\"N 77°32'09.4\"E              60   \n",
       "...                 ...                        ...             ...   \n",
       "1495               88.0  13°17'45.2\"N 77°32'09.4\"E              78   \n",
       "1496               55.0  13°17'45.2\"N 77°32'09.4\"E              65   \n",
       "1497              102.0  13°17'45.2\"N 77°32'09.4\"E              92   \n",
       "1498               43.0  13°17'45.2\"N 77°32'09.4\"E              51   \n",
       "1499               75.0  13°17'45.2\"N 77°32'09.4\"E              76   \n",
       "\n",
       "     Vehicle Plate Number  \n",
       "0              KA02AB1234  \n",
       "1              KA05CD5678  \n",
       "2              KA08EF9012  \n",
       "3              KA11GH3456  \n",
       "4              KA14IJ6789  \n",
       "...                   ...  \n",
       "1495           KA79EF0123  \n",
       "1496           KA82GH4567  \n",
       "1497           KA85IJ8901  \n",
       "1498           KA88KL2345  \n",
       "1499           KA91MN6789  \n",
       "\n",
       "[1500 rows x 12 columns]"
      ]
     },
     "execution_count": 10,
     "metadata": {},
     "output_type": "execute_result"
    }
   ],
   "source": [
    "df"
   ]
  },
  {
   "cell_type": "code",
   "execution_count": 12,
   "metadata": {},
   "outputs": [
    {
     "data": {
      "text/html": [
       "<div>\n",
       "<style scoped>\n",
       "    .dataframe tbody tr th:only-of-type {\n",
       "        vertical-align: middle;\n",
       "    }\n",
       "\n",
       "    .dataframe tbody tr th {\n",
       "        vertical-align: top;\n",
       "    }\n",
       "\n",
       "    .dataframe thead th {\n",
       "        text-align: right;\n",
       "    }\n",
       "</style>\n",
       "<table border=\"1\" class=\"dataframe\">\n",
       "  <thead>\n",
       "    <tr style=\"text-align: right;\">\n",
       "      <th></th>\n",
       "      <th>Transaction ID</th>\n",
       "      <th>Timestamp</th>\n",
       "      <th>Vehicle Type</th>\n",
       "      <th>FastagID</th>\n",
       "      <th>Toll Booth ID</th>\n",
       "      <th>Lane Type</th>\n",
       "      <th>Vechicle Dimensions</th>\n",
       "      <th>Transaction Amount</th>\n",
       "      <th>Distance Traveled</th>\n",
       "      <th>Geographical Location</th>\n",
       "      <th>Vechicle Speed</th>\n",
       "      <th>Vehicle Plate Number</th>\n",
       "    </tr>\n",
       "  </thead>\n",
       "  <tbody>\n",
       "    <tr>\n",
       "      <th>0</th>\n",
       "      <td>1</td>\n",
       "      <td>2023-01-01 08:15:30</td>\n",
       "      <td>Bus</td>\n",
       "      <td>FTG-001-ABC-123</td>\n",
       "      <td>245</td>\n",
       "      <td>Express</td>\n",
       "      <td>Large</td>\n",
       "      <td>340</td>\n",
       "      <td>45.3</td>\n",
       "      <td>13°17'45.2\"N 77°32'09.4\"E</td>\n",
       "      <td>65</td>\n",
       "      <td>KA02AB1234</td>\n",
       "    </tr>\n",
       "    <tr>\n",
       "      <th>1</th>\n",
       "      <td>2</td>\n",
       "      <td>2023-02-05 12:42:18</td>\n",
       "      <td>Car</td>\n",
       "      <td>FTG-002-XYZ-456</td>\n",
       "      <td>109</td>\n",
       "      <td>Regular</td>\n",
       "      <td>Small</td>\n",
       "      <td>100</td>\n",
       "      <td>102.7</td>\n",
       "      <td>13°17'45.2\"N 77°32'09.4\"E</td>\n",
       "      <td>78</td>\n",
       "      <td>KA05CD5678</td>\n",
       "    </tr>\n",
       "    <tr>\n",
       "      <th>2</th>\n",
       "      <td>3</td>\n",
       "      <td>2023-03-12 16:20:45</td>\n",
       "      <td>Motorcycle</td>\n",
       "      <td>FTG-003-PQR-789</td>\n",
       "      <td>372</td>\n",
       "      <td>Express</td>\n",
       "      <td>Small</td>\n",
       "      <td>0</td>\n",
       "      <td>75.1</td>\n",
       "      <td>13°17'45.2\"N 77°32'09.4\"E</td>\n",
       "      <td>53</td>\n",
       "      <td>KA08EF9012</td>\n",
       "    </tr>\n",
       "    <tr>\n",
       "      <th>3</th>\n",
       "      <td>4</td>\n",
       "      <td>2023-04-20 09:55:02</td>\n",
       "      <td>Truck</td>\n",
       "      <td>FTG-004-LMN-321</td>\n",
       "      <td>501</td>\n",
       "      <td>Regular</td>\n",
       "      <td>Large</td>\n",
       "      <td>340</td>\n",
       "      <td>32.5</td>\n",
       "      <td>13°17'45.2\"N 77°32'09.4\"E</td>\n",
       "      <td>92</td>\n",
       "      <td>KA11GH3456</td>\n",
       "    </tr>\n",
       "    <tr>\n",
       "      <th>4</th>\n",
       "      <td>5</td>\n",
       "      <td>2023-05-25 14:30:27</td>\n",
       "      <td>Van</td>\n",
       "      <td>FTG-005-DEF-654</td>\n",
       "      <td>893</td>\n",
       "      <td>Express</td>\n",
       "      <td>Medium</td>\n",
       "      <td>120</td>\n",
       "      <td>89.8</td>\n",
       "      <td>13°17'45.2\"N 77°32'09.4\"E</td>\n",
       "      <td>60</td>\n",
       "      <td>KA14IJ6789</td>\n",
       "    </tr>\n",
       "  </tbody>\n",
       "</table>\n",
       "</div>"
      ],
      "text/plain": [
       "   Transaction ID           Timestamp Vehicle Type         FastagID  \\\n",
       "0               1 2023-01-01 08:15:30         Bus   FTG-001-ABC-123   \n",
       "1               2 2023-02-05 12:42:18          Car  FTG-002-XYZ-456   \n",
       "2               3 2023-03-12 16:20:45   Motorcycle  FTG-003-PQR-789   \n",
       "3               4 2023-04-20 09:55:02        Truck  FTG-004-LMN-321   \n",
       "4               5 2023-05-25 14:30:27          Van  FTG-005-DEF-654   \n",
       "\n",
       "   Toll Booth ID Lane Type Vechicle Dimensions  Transaction Amount  \\\n",
       "0            245   Express               Large                 340   \n",
       "1            109   Regular               Small                 100   \n",
       "2            372   Express               Small                   0   \n",
       "3            501   Regular               Large                 340   \n",
       "4            893   Express              Medium                 120   \n",
       "\n",
       "   Distance Traveled      Geographical Location  Vechicle Speed  \\\n",
       "0               45.3  13°17'45.2\"N 77°32'09.4\"E              65   \n",
       "1              102.7  13°17'45.2\"N 77°32'09.4\"E              78   \n",
       "2               75.1  13°17'45.2\"N 77°32'09.4\"E              53   \n",
       "3               32.5  13°17'45.2\"N 77°32'09.4\"E              92   \n",
       "4               89.8  13°17'45.2\"N 77°32'09.4\"E              60   \n",
       "\n",
       "  Vehicle Plate Number  \n",
       "0           KA02AB1234  \n",
       "1           KA05CD5678  \n",
       "2           KA08EF9012  \n",
       "3           KA11GH3456  \n",
       "4           KA14IJ6789  "
      ]
     },
     "execution_count": 12,
     "metadata": {},
     "output_type": "execute_result"
    }
   ],
   "source": [
    "df.head()"
   ]
  },
  {
   "cell_type": "code",
   "execution_count": 13,
   "metadata": {},
   "outputs": [
    {
     "data": {
      "text/html": [
       "<div>\n",
       "<style scoped>\n",
       "    .dataframe tbody tr th:only-of-type {\n",
       "        vertical-align: middle;\n",
       "    }\n",
       "\n",
       "    .dataframe tbody tr th {\n",
       "        vertical-align: top;\n",
       "    }\n",
       "\n",
       "    .dataframe thead th {\n",
       "        text-align: right;\n",
       "    }\n",
       "</style>\n",
       "<table border=\"1\" class=\"dataframe\">\n",
       "  <thead>\n",
       "    <tr style=\"text-align: right;\">\n",
       "      <th></th>\n",
       "      <th>Transaction ID</th>\n",
       "      <th>Timestamp</th>\n",
       "      <th>Vehicle Type</th>\n",
       "      <th>FastagID</th>\n",
       "      <th>Toll Booth ID</th>\n",
       "      <th>Lane Type</th>\n",
       "      <th>Vechicle Dimensions</th>\n",
       "      <th>Transaction Amount</th>\n",
       "      <th>Distance Traveled</th>\n",
       "      <th>Geographical Location</th>\n",
       "      <th>Vechicle Speed</th>\n",
       "      <th>Vehicle Plate Number</th>\n",
       "    </tr>\n",
       "  </thead>\n",
       "  <tbody>\n",
       "    <tr>\n",
       "      <th>1495</th>\n",
       "      <td>1496</td>\n",
       "      <td>2023-02-23 15:15:00</td>\n",
       "      <td>Van</td>\n",
       "      <td>FTG-273-UIP-132</td>\n",
       "      <td>176</td>\n",
       "      <td>Regular</td>\n",
       "      <td>Medium</td>\n",
       "      <td>120</td>\n",
       "      <td>88.0</td>\n",
       "      <td>13°17'45.2\"N 77°32'09.4\"E</td>\n",
       "      <td>78</td>\n",
       "      <td>KA79EF0123</td>\n",
       "    </tr>\n",
       "    <tr>\n",
       "      <th>1496</th>\n",
       "      <td>1497</td>\n",
       "      <td>2023-02-24 17:30:15</td>\n",
       "      <td>Sedan</td>\n",
       "      <td>FTG-780-ERT-132</td>\n",
       "      <td>628</td>\n",
       "      <td>Express</td>\n",
       "      <td>Medium</td>\n",
       "      <td>130</td>\n",
       "      <td>55.0</td>\n",
       "      <td>13°17'45.2\"N 77°32'09.4\"E</td>\n",
       "      <td>65</td>\n",
       "      <td>KA82GH4567</td>\n",
       "    </tr>\n",
       "    <tr>\n",
       "      <th>1497</th>\n",
       "      <td>1498</td>\n",
       "      <td>2023-02-25 19:45:30</td>\n",
       "      <td>SUV</td>\n",
       "      <td>FTG-900-UTY-145</td>\n",
       "      <td>437</td>\n",
       "      <td>Regular</td>\n",
       "      <td>Large</td>\n",
       "      <td>150</td>\n",
       "      <td>102.0</td>\n",
       "      <td>13°17'45.2\"N 77°32'09.4\"E</td>\n",
       "      <td>92</td>\n",
       "      <td>KA85IJ8901</td>\n",
       "    </tr>\n",
       "    <tr>\n",
       "      <th>1498</th>\n",
       "      <td>1499</td>\n",
       "      <td>2023-02-26 22:15:45</td>\n",
       "      <td>Bus</td>\n",
       "      <td>FTG-456-ETR-185</td>\n",
       "      <td>892</td>\n",
       "      <td>Express</td>\n",
       "      <td>Large</td>\n",
       "      <td>340</td>\n",
       "      <td>43.0</td>\n",
       "      <td>13°17'45.2\"N 77°32'09.4\"E</td>\n",
       "      <td>51</td>\n",
       "      <td>KA88KL2345</td>\n",
       "    </tr>\n",
       "    <tr>\n",
       "      <th>1499</th>\n",
       "      <td>1500</td>\n",
       "      <td>2023-02-28 00:30:00</td>\n",
       "      <td>Car</td>\n",
       "      <td>FTG-678-AGH-458</td>\n",
       "      <td>381</td>\n",
       "      <td>Regular</td>\n",
       "      <td>Small</td>\n",
       "      <td>100</td>\n",
       "      <td>75.0</td>\n",
       "      <td>13°17'45.2\"N 77°32'09.4\"E</td>\n",
       "      <td>76</td>\n",
       "      <td>KA91MN6789</td>\n",
       "    </tr>\n",
       "  </tbody>\n",
       "</table>\n",
       "</div>"
      ],
      "text/plain": [
       "      Transaction ID           Timestamp Vehicle Type         FastagID  \\\n",
       "1495            1496 2023-02-23 15:15:00          Van  FTG-273-UIP-132   \n",
       "1496            1497 2023-02-24 17:30:15        Sedan  FTG-780-ERT-132   \n",
       "1497            1498 2023-02-25 19:45:30          SUV  FTG-900-UTY-145   \n",
       "1498            1499 2023-02-26 22:15:45         Bus   FTG-456-ETR-185   \n",
       "1499            1500 2023-02-28 00:30:00          Car  FTG-678-AGH-458   \n",
       "\n",
       "      Toll Booth ID Lane Type Vechicle Dimensions  Transaction Amount  \\\n",
       "1495            176   Regular              Medium                 120   \n",
       "1496            628   Express              Medium                 130   \n",
       "1497            437   Regular               Large                 150   \n",
       "1498            892   Express               Large                 340   \n",
       "1499            381   Regular               Small                 100   \n",
       "\n",
       "      Distance Traveled      Geographical Location  Vechicle Speed  \\\n",
       "1495               88.0  13°17'45.2\"N 77°32'09.4\"E              78   \n",
       "1496               55.0  13°17'45.2\"N 77°32'09.4\"E              65   \n",
       "1497              102.0  13°17'45.2\"N 77°32'09.4\"E              92   \n",
       "1498               43.0  13°17'45.2\"N 77°32'09.4\"E              51   \n",
       "1499               75.0  13°17'45.2\"N 77°32'09.4\"E              76   \n",
       "\n",
       "     Vehicle Plate Number  \n",
       "1495           KA79EF0123  \n",
       "1496           KA82GH4567  \n",
       "1497           KA85IJ8901  \n",
       "1498           KA88KL2345  \n",
       "1499           KA91MN6789  "
      ]
     },
     "execution_count": 13,
     "metadata": {},
     "output_type": "execute_result"
    }
   ],
   "source": [
    "df.tail()"
   ]
  },
  {
   "cell_type": "code",
   "execution_count": 14,
   "metadata": {},
   "outputs": [
    {
     "data": {
      "text/plain": [
       "<bound method DataFrame.info of       Transaction ID           Timestamp Vehicle Type         FastagID  \\\n",
       "0                  1 2023-01-01 08:15:30         Bus   FTG-001-ABC-123   \n",
       "1                  2 2023-02-05 12:42:18          Car  FTG-002-XYZ-456   \n",
       "2                  3 2023-03-12 16:20:45   Motorcycle  FTG-003-PQR-789   \n",
       "3                  4 2023-04-20 09:55:02        Truck  FTG-004-LMN-321   \n",
       "4                  5 2023-05-25 14:30:27          Van  FTG-005-DEF-654   \n",
       "...              ...                 ...          ...              ...   \n",
       "1495            1496 2023-02-23 15:15:00          Van  FTG-273-UIP-132   \n",
       "1496            1497 2023-02-24 17:30:15        Sedan  FTG-780-ERT-132   \n",
       "1497            1498 2023-02-25 19:45:30          SUV  FTG-900-UTY-145   \n",
       "1498            1499 2023-02-26 22:15:45         Bus   FTG-456-ETR-185   \n",
       "1499            1500 2023-02-28 00:30:00          Car  FTG-678-AGH-458   \n",
       "\n",
       "      Toll Booth ID Lane Type Vechicle Dimensions  Transaction Amount  \\\n",
       "0               245   Express               Large                 340   \n",
       "1               109   Regular               Small                 100   \n",
       "2               372   Express               Small                   0   \n",
       "3               501   Regular               Large                 340   \n",
       "4               893   Express              Medium                 120   \n",
       "...             ...       ...                 ...                 ...   \n",
       "1495            176   Regular              Medium                 120   \n",
       "1496            628   Express              Medium                 130   \n",
       "1497            437   Regular               Large                 150   \n",
       "1498            892   Express               Large                 340   \n",
       "1499            381   Regular               Small                 100   \n",
       "\n",
       "      Distance Traveled      Geographical Location  Vechicle Speed  \\\n",
       "0                  45.3  13°17'45.2\"N 77°32'09.4\"E              65   \n",
       "1                 102.7  13°17'45.2\"N 77°32'09.4\"E              78   \n",
       "2                  75.1  13°17'45.2\"N 77°32'09.4\"E              53   \n",
       "3                  32.5  13°17'45.2\"N 77°32'09.4\"E              92   \n",
       "4                  89.8  13°17'45.2\"N 77°32'09.4\"E              60   \n",
       "...                 ...                        ...             ...   \n",
       "1495               88.0  13°17'45.2\"N 77°32'09.4\"E              78   \n",
       "1496               55.0  13°17'45.2\"N 77°32'09.4\"E              65   \n",
       "1497              102.0  13°17'45.2\"N 77°32'09.4\"E              92   \n",
       "1498               43.0  13°17'45.2\"N 77°32'09.4\"E              51   \n",
       "1499               75.0  13°17'45.2\"N 77°32'09.4\"E              76   \n",
       "\n",
       "     Vehicle Plate Number  \n",
       "0              KA02AB1234  \n",
       "1              KA05CD5678  \n",
       "2              KA08EF9012  \n",
       "3              KA11GH3456  \n",
       "4              KA14IJ6789  \n",
       "...                   ...  \n",
       "1495           KA79EF0123  \n",
       "1496           KA82GH4567  \n",
       "1497           KA85IJ8901  \n",
       "1498           KA88KL2345  \n",
       "1499           KA91MN6789  \n",
       "\n",
       "[1500 rows x 12 columns]>"
      ]
     },
     "execution_count": 14,
     "metadata": {},
     "output_type": "execute_result"
    }
   ],
   "source": [
    "df.info"
   ]
  },
  {
   "cell_type": "code",
   "execution_count": 15,
   "metadata": {},
   "outputs": [
    {
     "data": {
      "text/html": [
       "<div>\n",
       "<style scoped>\n",
       "    .dataframe tbody tr th:only-of-type {\n",
       "        vertical-align: middle;\n",
       "    }\n",
       "\n",
       "    .dataframe tbody tr th {\n",
       "        vertical-align: top;\n",
       "    }\n",
       "\n",
       "    .dataframe thead th {\n",
       "        text-align: right;\n",
       "    }\n",
       "</style>\n",
       "<table border=\"1\" class=\"dataframe\">\n",
       "  <thead>\n",
       "    <tr style=\"text-align: right;\">\n",
       "      <th></th>\n",
       "      <th>Transaction ID</th>\n",
       "      <th>Timestamp</th>\n",
       "      <th>Toll Booth ID</th>\n",
       "      <th>Transaction Amount</th>\n",
       "      <th>Distance Traveled</th>\n",
       "      <th>Vechicle Speed</th>\n",
       "    </tr>\n",
       "  </thead>\n",
       "  <tbody>\n",
       "    <tr>\n",
       "      <th>count</th>\n",
       "      <td>1500.000000</td>\n",
       "      <td>1500</td>\n",
       "      <td>1500.000000</td>\n",
       "      <td>1500.000000</td>\n",
       "      <td>1500.000000</td>\n",
       "      <td>1500.000000</td>\n",
       "    </tr>\n",
       "    <tr>\n",
       "      <th>mean</th>\n",
       "      <td>750.500000</td>\n",
       "      <td>2023-05-07 13:18:45.051333376</td>\n",
       "      <td>546.054667</td>\n",
       "      <td>164.193333</td>\n",
       "      <td>78.459067</td>\n",
       "      <td>68.172667</td>\n",
       "    </tr>\n",
       "    <tr>\n",
       "      <th>min</th>\n",
       "      <td>1.000000</td>\n",
       "      <td>2023-01-01 00:00:00</td>\n",
       "      <td>106.000000</td>\n",
       "      <td>0.000000</td>\n",
       "      <td>31.500000</td>\n",
       "      <td>10.000000</td>\n",
       "    </tr>\n",
       "    <tr>\n",
       "      <th>25%</th>\n",
       "      <td>375.750000</td>\n",
       "      <td>2023-02-21 18:00:30</td>\n",
       "      <td>367.000000</td>\n",
       "      <td>100.000000</td>\n",
       "      <td>54.600000</td>\n",
       "      <td>54.000000</td>\n",
       "    </tr>\n",
       "    <tr>\n",
       "      <th>50%</th>\n",
       "      <td>750.500000</td>\n",
       "      <td>2023-04-23 00:25:25</td>\n",
       "      <td>564.000000</td>\n",
       "      <td>120.000000</td>\n",
       "      <td>78.800000</td>\n",
       "      <td>67.000000</td>\n",
       "    </tr>\n",
       "    <tr>\n",
       "      <th>75%</th>\n",
       "      <td>1125.250000</td>\n",
       "      <td>2023-07-05 18:22:55</td>\n",
       "      <td>721.000000</td>\n",
       "      <td>340.000000</td>\n",
       "      <td>104.000000</td>\n",
       "      <td>83.000000</td>\n",
       "    </tr>\n",
       "    <tr>\n",
       "      <th>max</th>\n",
       "      <td>1500.000000</td>\n",
       "      <td>2023-12-31 18:15:15</td>\n",
       "      <td>973.000000</td>\n",
       "      <td>340.000000</td>\n",
       "      <td>130.200000</td>\n",
       "      <td>105.000000</td>\n",
       "    </tr>\n",
       "    <tr>\n",
       "      <th>std</th>\n",
       "      <td>433.157015</td>\n",
       "      <td>NaN</td>\n",
       "      <td>219.755212</td>\n",
       "      <td>116.875957</td>\n",
       "      <td>27.527539</td>\n",
       "      <td>17.394191</td>\n",
       "    </tr>\n",
       "  </tbody>\n",
       "</table>\n",
       "</div>"
      ],
      "text/plain": [
       "       Transaction ID                      Timestamp  Toll Booth ID  \\\n",
       "count     1500.000000                           1500    1500.000000   \n",
       "mean       750.500000  2023-05-07 13:18:45.051333376     546.054667   \n",
       "min          1.000000            2023-01-01 00:00:00     106.000000   \n",
       "25%        375.750000            2023-02-21 18:00:30     367.000000   \n",
       "50%        750.500000            2023-04-23 00:25:25     564.000000   \n",
       "75%       1125.250000            2023-07-05 18:22:55     721.000000   \n",
       "max       1500.000000            2023-12-31 18:15:15     973.000000   \n",
       "std        433.157015                            NaN     219.755212   \n",
       "\n",
       "       Transaction Amount  Distance Traveled  Vechicle Speed  \n",
       "count         1500.000000        1500.000000     1500.000000  \n",
       "mean           164.193333          78.459067       68.172667  \n",
       "min              0.000000          31.500000       10.000000  \n",
       "25%            100.000000          54.600000       54.000000  \n",
       "50%            120.000000          78.800000       67.000000  \n",
       "75%            340.000000         104.000000       83.000000  \n",
       "max            340.000000         130.200000      105.000000  \n",
       "std            116.875957          27.527539       17.394191  "
      ]
     },
     "execution_count": 15,
     "metadata": {},
     "output_type": "execute_result"
    }
   ],
   "source": [
    "df.describe()"
   ]
  },
  {
   "cell_type": "code",
   "execution_count": 16,
   "metadata": {},
   "outputs": [
    {
     "data": {
      "text/plain": [
       "(1500, 12)"
      ]
     },
     "execution_count": 16,
     "metadata": {},
     "output_type": "execute_result"
    }
   ],
   "source": [
    "df.shape"
   ]
  },
  {
   "cell_type": "code",
   "execution_count": 17,
   "metadata": {},
   "outputs": [
    {
     "data": {
      "text/plain": [
       "18000"
      ]
     },
     "execution_count": 17,
     "metadata": {},
     "output_type": "execute_result"
    }
   ],
   "source": [
    "df.size"
   ]
  },
  {
   "cell_type": "code",
   "execution_count": 18,
   "metadata": {},
   "outputs": [
    {
     "data": {
      "text/plain": [
       "0       False\n",
       "1       False\n",
       "2       False\n",
       "3       False\n",
       "4       False\n",
       "        ...  \n",
       "1495    False\n",
       "1496    False\n",
       "1497    False\n",
       "1498    False\n",
       "1499    False\n",
       "Length: 1500, dtype: bool"
      ]
     },
     "execution_count": 18,
     "metadata": {},
     "output_type": "execute_result"
    }
   ],
   "source": [
    "df.duplicated()"
   ]
  },
  {
   "cell_type": "code",
   "execution_count": 19,
   "metadata": {},
   "outputs": [
    {
     "data": {
      "text/plain": [
       "Transaction ID           0\n",
       "Timestamp                0\n",
       "Vehicle Type             0\n",
       "FastagID                 0\n",
       "Toll Booth ID            0\n",
       "Lane Type                0\n",
       "Vechicle Dimensions      0\n",
       "Transaction Amount       0\n",
       "Distance Traveled        0\n",
       "Geographical Location    0\n",
       "Vechicle Speed           0\n",
       "Vehicle Plate Number     0\n",
       "dtype: int64"
      ]
     },
     "execution_count": 19,
     "metadata": {},
     "output_type": "execute_result"
    }
   ],
   "source": [
    "df.isnull().sum()"
   ]
  },
  {
   "cell_type": "code",
   "execution_count": 20,
   "metadata": {},
   "outputs": [
    {
     "data": {
      "text/plain": [
       "Transaction ID           1500\n",
       "Timestamp                1120\n",
       "Vehicle Type                7\n",
       "FastagID                 1285\n",
       "Toll Booth ID             536\n",
       "Lane Type                   2\n",
       "Vechicle Dimensions         3\n",
       "Transaction Amount          6\n",
       "Distance Traveled         650\n",
       "Geographical Location       1\n",
       "Vechicle Speed             82\n",
       "Vehicle Plate Number      800\n",
       "dtype: int64"
      ]
     },
     "execution_count": 20,
     "metadata": {},
     "output_type": "execute_result"
    }
   ],
   "source": [
    "df.nunique()"
   ]
  },
  {
   "cell_type": "code",
   "execution_count": 21,
   "metadata": {},
   "outputs": [
    {
     "data": {
      "text/plain": [
       "Transaction ID           1500\n",
       "Timestamp                1500\n",
       "Vehicle Type             1500\n",
       "FastagID                 1500\n",
       "Toll Booth ID            1500\n",
       "Lane Type                1500\n",
       "Vechicle Dimensions      1500\n",
       "Transaction Amount       1500\n",
       "Distance Traveled        1500\n",
       "Geographical Location    1500\n",
       "Vechicle Speed           1500\n",
       "Vehicle Plate Number     1500\n",
       "dtype: int64"
      ]
     },
     "execution_count": 21,
     "metadata": {},
     "output_type": "execute_result"
    }
   ],
   "source": [
    "df.count()"
   ]
  },
  {
   "cell_type": "code",
   "execution_count": 22,
   "metadata": {},
   "outputs": [],
   "source": [
    "import matplotlib.pyplot as plt\n",
    "import seaborn as sns"
   ]
  },
  {
   "cell_type": "code",
   "execution_count": 23,
   "metadata": {},
   "outputs": [
    {
     "data": {
      "image/png": "[encoded data removed]",
      "text/plain": [
       "<Figure size 1000x600 with 1 Axes>"
      ]
     },
     "metadata": {},
     "output_type": "display_data"
    }
   ],
   "source": [
    "# Visualize the distribution of Transaction Amount using a histogram\n",
    "plt.figure(figsize=(10, 6))\n",
    "sns.histplot(df['Transaction Amount'], bins=30, kde=True, color='blue')\n",
    "plt.title('Distribution of Transaction Amount')\n",
    "plt.xlabel('Transaction Amount')\n",
    "plt.ylabel('Frequency')\n",
    "plt.show()"
   ]
  },
  {
   "cell_type": "code",
   "execution_count": 25,
   "metadata": {},
   "outputs": [
    {
     "data": {
      "image/png": "[encoded data removed]",
      "text/plain": [
       "<Figure size 800x500 with 1 Axes>"
      ]
     },
     "metadata": {},
     "output_type": "display_data"
    }
   ],
   "source": [
    "#Countplot for Lane Type\n",
    "plt.figure(figsize=(8, 5))\n",
    "sns.countplot(x='Lane Type', data=df, palette='pastel')\n",
    "plt.title('Distribution of Lane Types')\n",
    "plt.xlabel('Lane Type')\n",
    "plt.ylabel('Count')\n",
    "plt.show()"
   ]
  },
  {
   "cell_type": "code",
   "execution_count": 30,
   "metadata": {},
   "outputs": [
    {
     "data": {
      "image/png": "[encoded data removed]",
      "text/plain": [
       "<Figure size 1200x600 with 1 Axes>"
      ]
     },
     "metadata": {},
     "output_type": "display_data"
    }
   ],
   "source": [
    "#Bar Plot for Vechicle Type by FastagID\n",
    "plt.figure(figsize=(12, 6))\n",
    "sns.countplot(x='FastagID', hue='Vehicle Type', data=df, palette='Set2', order=df['FastagID'].value_counts().index)\n",
    "plt.title('Vechicle Type by FastagID')\n",
    "plt.xlabel('FastagID')\n",
    "plt.ylabel('Count')\n",
    "plt.legend(title='Vechicle Type')\n",
    "plt.show()"
   ]
  },
  {
   "cell_type": "code",
   "execution_count": 38,
   "metadata": {},
   "outputs": [],
   "source": [
    "import matplotlib.pyplot as plt\n",
    "import seaborn as sns"
   ]
  },
  {
   "cell_type": "code",
   "execution_count": 40,
   "metadata": {},
   "outputs": [],
   "source": [
    "from sklearn.model_selection import train_test_split\n",
    "from sklearn.linear_model import LogisticRegression\n",
    "from sklearn.metrics import classification_report, confusion_matrix\n"
   ]
  },
  {
   "cell_type": "code",
   "execution_count": 42,
   "metadata": {},
   "outputs": [],
   "source": [
    "# Preprocess the data, e.g., handle missing values, convert categorical variables to numerical, etc.\n",
    "# Select relevant features and target variable\n",
    "X = df[['FastagID', 'Vehicle Type']]  # Features\n",
    "y = df['Transaction Amount']  # Target variable"
   ]
  },
  {
   "cell_type": "code",
   "execution_count": 43,
   "metadata": {},
   "outputs": [],
   "source": [
    "# Convert categorical features to numerical using one-hot encoding\n",
    "X = p.get_dummies(X, columns=['FastagID', 'Vehicle Type'], drop_first=True)"
   ]
  },
  {
   "cell_type": "code",
   "execution_count": 44,
   "metadata": {},
   "outputs": [],
   "source": [
    "# Split the data into training and testing sets\n",
    "X_train, X_test, y_train, y_test = train_test_split(X, y, test_size=0.2, random_state=42)"
   ]
  },
  {
   "cell_type": "code",
   "execution_count": 45,
   "metadata": {},
   "outputs": [],
   "source": [
    "# Create a logistic regression model\n",
    "model = LogisticRegression()"
   ]
  },
  {
   "cell_type": "code",
   "execution_count": 46,
   "metadata": {},
   "outputs": [
    {
     "data": {
      "text/html": [
       "<style>#sk-container-id-1 {color: black;}#sk-container-id-1 pre{padding: 0;}#sk-container-id-1 div.sk-toggleable {background-color: white;}#sk-container-id-1 label.sk-toggleable__label {cursor: pointer;display: block;width: 100%;margin-bottom: 0;padding: 0.3em;box-sizing: border-box;text-align: center;}#sk-container-id-1 label.sk-toggleable__label-arrow:before {content: \"▸\";float: left;margin-right: 0.25em;color: #696969;}#sk-container-id-1 label.sk-toggleable__label-arrow:hover:before {color: black;}#sk-container-id-1 div.sk-estimator:hover label.sk-toggleable__label-arrow:before {color: black;}#sk-container-id-1 div.sk-toggleable__content {max-height: 0;max-width: 0;overflow: hidden;text-align: left;background-color: #f0f8ff;}#sk-container-id-1 div.sk-toggleable__content pre {margin: 0.2em;color: black;border-radius: 0.25em;background-color: #f0f8ff;}#sk-container-id-1 input.sk-toggleable__control:checked~div.sk-toggleable__content {max-height: 200px;max-width: 100%;overflow: auto;}#sk-container-id-1 input.sk-toggleable__control:checked~label.sk-toggleable__label-arrow:before {content: \"▾\";}#sk-container-id-1 div.sk-estimator input.sk-toggleable__control:checked~label.sk-toggleable__label {background-color: #d4ebff;}#sk-container-id-1 div.sk-label input.sk-toggleable__control:checked~label.sk-toggleable__label {background-color: #d4ebff;}#sk-container-id-1 input.sk-hidden--visually {border: 0;clip: rect(1px 1px 1px 1px);clip: rect(1px, 1px, 1px, 1px);height: 1px;margin: -1px;overflow: hidden;padding: 0;position: absolute;width: 1px;}#sk-container-id-1 div.sk-estimator {font-family: monospace;background-color: #f0f8ff;border: 1px dotted black;border-radius: 0.25em;box-sizing: border-box;margin-bottom: 0.5em;}#sk-container-id-1 div.sk-estimator:hover {background-color: #d4ebff;}#sk-container-id-1 div.sk-parallel-item::after {content: \"\";width: 100%;border-bottom: 1px solid gray;flex-grow: 1;}#sk-container-id-1 div.sk-label:hover label.sk-toggleable__label {background-color: #d4ebff;}#sk-container-id-1 div.sk-serial::before {content: \"\";position: absolute;border-left: 1px solid gray;box-sizing: border-box;top: 0;bottom: 0;left: 50%;z-index: 0;}#sk-container-id-1 div.sk-serial {display: flex;flex-direction: column;align-items: center;background-color: white;padding-right: 0.2em;padding-left: 0.2em;position: relative;}#sk-container-id-1 div.sk-item {position: relative;z-index: 1;}#sk-container-id-1 div.sk-parallel {display: flex;align-items: stretch;justify-content: center;background-color: white;position: relative;}#sk-container-id-1 div.sk-item::before, #sk-container-id-1 div.sk-parallel-item::before {content: \"\";position: absolute;border-left: 1px solid gray;box-sizing: border-box;top: 0;bottom: 0;left: 50%;z-index: -1;}#sk-container-id-1 div.sk-parallel-item {display: flex;flex-direction: column;z-index: 1;position: relative;background-color: white;}#sk-container-id-1 div.sk-parallel-item:first-child::after {align-self: flex-end;width: 50%;}#sk-container-id-1 div.sk-parallel-item:last-child::after {align-self: flex-start;width: 50%;}#sk-container-id-1 div.sk-parallel-item:only-child::after {width: 0;}#sk-container-id-1 div.sk-dashed-wrapped {border: 1px dashed gray;margin: 0 0.4em 0.5em 0.4em;box-sizing: border-box;padding-bottom: 0.4em;background-color: white;}#sk-container-id-1 div.sk-label label {font-family: monospace;font-weight: bold;display: inline-block;line-height: 1.2em;}#sk-container-id-1 div.sk-label-container {text-align: center;}#sk-container-id-1 div.sk-container {/* jupyter's `normalize.less` sets `[hidden] { display: none; }` but bootstrap.min.css set `[hidden] { display: none !important; }` so we also need the `!important` here to be able to override the default hidden behavior on the sphinx rendered scikit-learn.org. See: https://github.com/scikit-learn/scikit-learn/issues/21755 */display: inline-block !important;position: relative;}#sk-container-id-1 div.sk-text-repr-fallback {display: none;}</style><div id=\"sk-container-id-1\" class=\"sk-top-container\"><div class=\"sk-text-repr-fallback\"><pre>LogisticRegression()</pre><b>In a Jupyter environment, please rerun this cell to show the HTML representation or trust the notebook. <br />On GitHub, the HTML representation is unable to render, please try loading this page with nbviewer.org.</b></div><div class=\"sk-container\" hidden><div class=\"sk-item\"><div class=\"sk-estimator sk-toggleable\"><input class=\"sk-toggleable__control sk-hidden--visually\" id=\"sk-estimator-id-1\" type=\"checkbox\" checked><label for=\"sk-estimator-id-1\" class=\"sk-toggleable__label sk-toggleable__label-arrow\">LogisticRegression</label><div class=\"sk-toggleable__content\"><pre>LogisticRegression()</pre></div></div></div></div></div>"
      ],
      "text/plain": [
       "LogisticRegression()"
      ]
     },
     "execution_count": 46,
     "metadata": {},
     "output_type": "execute_result"
    }
   ],
   "source": [
    "# Train the model\n",
    "model.fit(X_train, y_train)"
   ]
  },
  {
   "cell_type": "code",
   "execution_count": 47,
   "metadata": {},
   "outputs": [
    {
     "data": {
      "text/html": [
       "<style>#sk-container-id-2 {color: black;}#sk-container-id-2 pre{padding: 0;}#sk-container-id-2 div.sk-toggleable {background-color: white;}#sk-container-id-2 label.sk-toggleable__label {cursor: pointer;display: block;width: 100%;margin-bottom: 0;padding: 0.3em;box-sizing: border-box;text-align: center;}#sk-container-id-2 label.sk-toggleable__label-arrow:before {content: \"▸\";float: left;margin-right: 0.25em;color: #696969;}#sk-container-id-2 label.sk-toggleable__label-arrow:hover:before {color: black;}#sk-container-id-2 div.sk-estimator:hover label.sk-toggleable__label-arrow:before {color: black;}#sk-container-id-2 div.sk-toggleable__content {max-height: 0;max-width: 0;overflow: hidden;text-align: left;background-color: #f0f8ff;}#sk-container-id-2 div.sk-toggleable__content pre {margin: 0.2em;color: black;border-radius: 0.25em;background-color: #f0f8ff;}#sk-container-id-2 input.sk-toggleable__control:checked~div.sk-toggleable__content {max-height: 200px;max-width: 100%;overflow: auto;}#sk-container-id-2 input.sk-toggleable__control:checked~label.sk-toggleable__label-arrow:before {content: \"▾\";}#sk-container-id-2 div.sk-estimator input.sk-toggleable__control:checked~label.sk-toggleable__label {background-color: #d4ebff;}#sk-container-id-2 div.sk-label input.sk-toggleable__control:checked~label.sk-toggleable__label {background-color: #d4ebff;}#sk-container-id-2 input.sk-hidden--visually {border: 0;clip: rect(1px 1px 1px 1px);clip: rect(1px, 1px, 1px, 1px);height: 1px;margin: -1px;overflow: hidden;padding: 0;position: absolute;width: 1px;}#sk-container-id-2 div.sk-estimator {font-family: monospace;background-color: #f0f8ff;border: 1px dotted black;border-radius: 0.25em;box-sizing: border-box;margin-bottom: 0.5em;}#sk-container-id-2 div.sk-estimator:hover {background-color: #d4ebff;}#sk-container-id-2 div.sk-parallel-item::after {content: \"\";width: 100%;border-bottom: 1px solid gray;flex-grow: 1;}#sk-container-id-2 div.sk-label:hover label.sk-toggleable__label {background-color: #d4ebff;}#sk-container-id-2 div.sk-serial::before {content: \"\";position: absolute;border-left: 1px solid gray;box-sizing: border-box;top: 0;bottom: 0;left: 50%;z-index: 0;}#sk-container-id-2 div.sk-serial {display: flex;flex-direction: column;align-items: center;background-color: white;padding-right: 0.2em;padding-left: 0.2em;position: relative;}#sk-container-id-2 div.sk-item {position: relative;z-index: 1;}#sk-container-id-2 div.sk-parallel {display: flex;align-items: stretch;justify-content: center;background-color: white;position: relative;}#sk-container-id-2 div.sk-item::before, #sk-container-id-2 div.sk-parallel-item::before {content: \"\";position: absolute;border-left: 1px solid gray;box-sizing: border-box;top: 0;bottom: 0;left: 50%;z-index: -1;}#sk-container-id-2 div.sk-parallel-item {display: flex;flex-direction: column;z-index: 1;position: relative;background-color: white;}#sk-container-id-2 div.sk-parallel-item:first-child::after {align-self: flex-end;width: 50%;}#sk-container-id-2 div.sk-parallel-item:last-child::after {align-self: flex-start;width: 50%;}#sk-container-id-2 div.sk-parallel-item:only-child::after {width: 0;}#sk-container-id-2 div.sk-dashed-wrapped {border: 1px dashed gray;margin: 0 0.4em 0.5em 0.4em;box-sizing: border-box;padding-bottom: 0.4em;background-color: white;}#sk-container-id-2 div.sk-label label {font-family: monospace;font-weight: bold;display: inline-block;line-height: 1.2em;}#sk-container-id-2 div.sk-label-container {text-align: center;}#sk-container-id-2 div.sk-container {/* jupyter's `normalize.less` sets `[hidden] { display: none; }` but bootstrap.min.css set `[hidden] { display: none !important; }` so we also need the `!important` here to be able to override the default hidden behavior on the sphinx rendered scikit-learn.org. See: https://github.com/scikit-learn/scikit-learn/issues/21755 */display: inline-block !important;position: relative;}#sk-container-id-2 div.sk-text-repr-fallback {display: none;}</style><div id=\"sk-container-id-2\" class=\"sk-top-container\"><div class=\"sk-text-repr-fallback\"><pre>LogisticRegression()</pre><b>In a Jupyter environment, please rerun this cell to show the HTML representation or trust the notebook. <br />On GitHub, the HTML representation is unable to render, please try loading this page with nbviewer.org.</b></div><div class=\"sk-container\" hidden><div class=\"sk-item\"><div class=\"sk-estimator sk-toggleable\"><input class=\"sk-toggleable__control sk-hidden--visually\" id=\"sk-estimator-id-2\" type=\"checkbox\" checked><label for=\"sk-estimator-id-2\" class=\"sk-toggleable__label sk-toggleable__label-arrow\">LogisticRegression</label><div class=\"sk-toggleable__content\"><pre>LogisticRegression()</pre></div></div></div></div></div>"
      ],
      "text/plain": [
       "LogisticRegression()"
      ]
     },
     "execution_count": 47,
     "metadata": {},
     "output_type": "execute_result"
    }
   ],
   "source": [
    "# Train the model\n",
    "model.fit(X_train, y_train)"
   ]
  },
  {
   "cell_type": "code",
   "execution_count": 50,
   "metadata": {},
   "outputs": [],
   "source": [
    "# Make predictions on the test set\n",
    "y_pred = model.predict(X_test)"
   ]
  },
  {
   "cell_type": "code",
   "execution_count": 51,
   "metadata": {},
   "outputs": [
    {
     "name": "stdout",
     "output_type": "stream",
     "text": [
      "[[50  0  0  0  0  0]\n",
      " [ 0 46  7  4  4  0]\n",
      " [ 0  0 24  1  6  4]\n",
      " [ 0  0  0 30  0  1]\n",
      " [ 0  0  0  0 30  1]\n",
      " [ 0  0  0  0  0 92]]\n",
      "              precision    recall  f1-score   support\n",
      "\n",
      "           0       1.00      1.00      1.00        50\n",
      "         100       1.00      0.75      0.86        61\n",
      "         120       0.77      0.69      0.73        35\n",
      "         130       0.86      0.97      0.91        31\n",
      "         150       0.75      0.97      0.85        31\n",
      "         340       0.94      1.00      0.97        92\n",
      "\n",
      "    accuracy                           0.91       300\n",
      "   macro avg       0.89      0.90      0.88       300\n",
      "weighted avg       0.91      0.91      0.90       300\n",
      "\n"
     ]
    }
   ],
   "source": [
    "# Evaluate the model\n",
    "print(confusion_matrix(y_test, y_pred))\n",
    "print(classification_report(y_test, y_pred))"
   ]
  },
  {
   "cell_type": "code",
   "execution_count": 60,
   "metadata": {},
   "outputs": [
    {
     "name": "stdout",
     "output_type": "stream",
     "text": [
      "['c:\\\\Users\\\\Panda\\\\Desktop\\\\Java Programming Language', 'c:\\\\Users\\\\Panda\\\\AppData\\\\Local\\\\Programs\\\\Python\\\\Python311\\\\python311.zip', 'c:\\\\Users\\\\Panda\\\\AppData\\\\Local\\\\Programs\\\\Python\\\\Python311\\\\DLLs', 'c:\\\\Users\\\\Panda\\\\AppData\\\\Local\\\\Programs\\\\Python\\\\Python311\\\\Lib', 'c:\\\\Users\\\\Panda\\\\AppData\\\\Local\\\\Programs\\\\Python\\\\Python311', '', 'C:\\\\Users\\\\Panda\\\\AppData\\\\Roaming\\\\Python\\\\Python311\\\\site-packages', 'C:\\\\Users\\\\Panda\\\\AppData\\\\Roaming\\\\Python\\\\Python311\\\\site-packages\\\\win32', 'C:\\\\Users\\\\Panda\\\\AppData\\\\Roaming\\\\Python\\\\Python311\\\\site-packages\\\\win32\\\\lib', 'C:\\\\Users\\\\Panda\\\\AppData\\\\Roaming\\\\Python\\\\Python311\\\\site-packages\\\\Pythonwin', 'c:\\\\Users\\\\Panda\\\\AppData\\\\Local\\\\Programs\\\\Python\\\\Python311\\\\Lib\\\\site-packages']\n"
     ]
    }
   ],
   "source": [
    "import sys\n",
    "print(sys.path)\n"
   ]
  },
  {
   "cell_type": "code",
   "execution_count": 61,
   "metadata": {},
   "outputs": [],
   "source": [
    "from sklearn.tree import DecisionTreeClassifier"
   ]
  },
  {
   "cell_type": "code",
   "execution_count": 62,
   "metadata": {},
   "outputs": [],
   "source": [
    "# Preprocess the data, e.g., handle missing values, convert categorical variables to numerical, etc.\n",
    "# Select relevant features and target variable\n",
    "X = df[['FastagID', 'Vehicle Type']]  # Features\n",
    "y = df['Transaction Amount']  # Target variable"
   ]
  },
  {
   "cell_type": "code",
   "execution_count": 63,
   "metadata": {},
   "outputs": [],
   "source": [
    "# Convert categorical features to numerical using one-hot encoding\n",
    "X = p.get_dummies(X, columns=['FastagID', 'Vehicle Type'], drop_first=True)"
   ]
  },
  {
   "cell_type": "code",
   "execution_count": 64,
   "metadata": {},
   "outputs": [],
   "source": [
    "# Split the data into training and testing sets\n",
    "X_train, X_test, y_train, y_test = train_test_split(X, y, test_size=0.2, random_state=42)"
   ]
  },
  {
   "cell_type": "code",
   "execution_count": 65,
   "metadata": {},
   "outputs": [],
   "source": [
    "# Create a Decision Tree Classifier model\n",
    "model = DecisionTreeClassifier(random_state=42)"
   ]
  },
  {
   "cell_type": "code",
   "execution_count": 66,
   "metadata": {},
   "outputs": [
    {
     "name": "stdout",
     "output_type": "stream",
     "text": [
      "[[50  0  0  0  0  0]\n",
      " [ 0 46  7  4  4  0]\n",
      " [ 0  0 24  1  6  4]\n",
      " [ 0  0  0 30  0  1]\n",
      " [ 0  1  0  0 29  1]\n",
      " [ 0  0  0  0  1 91]]\n",
      "              precision    recall  f1-score   support\n",
      "\n",
      "           0       1.00      1.00      1.00        50\n",
      "         100       0.98      0.75      0.85        61\n",
      "         120       0.77      0.69      0.73        35\n",
      "         130       0.86      0.97      0.91        31\n",
      "         150       0.72      0.94      0.82        31\n",
      "         340       0.94      0.99      0.96        92\n",
      "\n",
      "    accuracy                           0.90       300\n",
      "   macro avg       0.88      0.89      0.88       300\n",
      "weighted avg       0.91      0.90      0.90       300\n",
      "\n"
     ]
    }
   ],
   "source": [
    "# Train the model\n",
    "model.fit(X_train, y_train)\n",
    "# Make predictions on the test set\n",
    "y_pred = model.predict(X_test)\n",
    "# Evaluate the model\n",
    "print(confusion_matrix(y_test, y_pred))\n",
    "print(classification_report(y_test, y_pred))"
   ]
  },
  {
   "cell_type": "code",
   "execution_count": 67,
   "metadata": {},
   "outputs": [],
   "source": [
    "from sklearn.svm import SVC\n",
    "# Create an instance of the Support Vector Classification\n",
    "svc = SVC()\n"
   ]
  },
  {
   "cell_type": "code",
   "execution_count": 69,
   "metadata": {},
   "outputs": [
    {
     "name": "stdout",
     "output_type": "stream",
     "text": [
      "[[50  0  0  0  0  0]\n",
      " [ 0 46  7  4  4  0]\n",
      " [ 0  0 24  1  6  4]\n",
      " [ 0  0  0 30  0  1]\n",
      " [ 0  1  0  0 29  1]\n",
      " [ 0  0  0  0  1 91]]\n",
      "              precision    recall  f1-score   support\n",
      "\n",
      "           0       1.00      1.00      1.00        50\n",
      "         100       0.98      0.75      0.85        61\n",
      "         120       0.77      0.69      0.73        35\n",
      "         130       0.86      0.97      0.91        31\n",
      "         150       0.72      0.94      0.82        31\n",
      "         340       0.94      0.99      0.96        92\n",
      "\n",
      "    accuracy                           0.90       300\n",
      "   macro avg       0.88      0.89      0.88       300\n",
      "weighted avg       0.91      0.90      0.90       300\n",
      "\n"
     ]
    }
   ],
   "source": [
    "# Preprocess the data, e.g., handle missing values, convert categorical variables to numerical, etc.\n",
    "# Select relevant features and target variable\n",
    "X = df[['FastagID', 'Vehicle Type']]  # Features\n",
    "y = df['Transaction Amount']  # Target variable\n",
    "# Convert categorical features to numerical using one-hot encoding\n",
    "X = p.get_dummies(X, columns=['FastagID', 'Vehicle Type'], drop_first=True)\n",
    "# Split the data into training and testing sets\n",
    "X_train, X_test, y_train, y_test = train_test_split(X, y, test_size=0.2, random_state=42)\n",
    "# Create a Support Vector Machine (SVM) Classifier model\n",
    "model = SVC(kernel='linear', random_state=42)  # You can change the kernel as needed (e.g., 'rbf' for Radial basis function)\n",
    "# Train the model\n",
    "model.fit(X_train, y_train)\n",
    "# Make predictions on the test set\n",
    "y_pred = model.predict(X_test)\n",
    "# Evaluate the model\n",
    "print(confusion_matrix(y_test, y_pred))\n",
    "print(classification_report(y_test, y_pred))"
   ]
  },
  {
   "cell_type": "code",
   "execution_count": 70,
   "metadata": {},
   "outputs": [],
   "source": [
    "from sklearn.ensemble import GradientBoostingClassifier\n",
    "# Create an instance of the GradientBoostingClassifier\n",
    "gbc = GradientBoostingClassifier()"
   ]
  },
  {
   "cell_type": "code",
   "execution_count": 72,
   "metadata": {},
   "outputs": [
    {
     "name": "stdout",
     "output_type": "stream",
     "text": [
      "[[50  0  0  0  0  0]\n",
      " [ 0 46  7  4  4  0]\n",
      " [ 0  0 24  1  6  4]\n",
      " [ 0  0  0 30  0  1]\n",
      " [ 0  1  0  0 29  1]\n",
      " [ 0  0  0  0  1 91]]\n",
      "              precision    recall  f1-score   support\n",
      "\n",
      "           0       1.00      1.00      1.00        50\n",
      "         100       0.98      0.75      0.85        61\n",
      "         120       0.77      0.69      0.73        35\n",
      "         130       0.86      0.97      0.91        31\n",
      "         150       0.72      0.94      0.82        31\n",
      "         340       0.94      0.99      0.96        92\n",
      "\n",
      "    accuracy                           0.90       300\n",
      "   macro avg       0.88      0.89      0.88       300\n",
      "weighted avg       0.91      0.90      0.90       300\n",
      "\n"
     ]
    }
   ],
   "source": [
    "\n",
    "# Preprocess the data, e.g., handle missing values, convert categorical variables to numerical, etc.\n",
    "# Select relevant features and target variable\n",
    "X = df[['FastagID', 'Vehicle Type']]  # Features\n",
    "y = df['Transaction Amount']  # Target variable\n",
    "# Convert categorical features to numerical using one-hot encoding\n",
    "X = p.get_dummies(X, columns=['FastagID', 'Vehicle Type'], drop_first=True)\n",
    "# Split the data into training and testing sets\n",
    "X_train, X_test, y_train, y_test = train_test_split(X, y, test_size=0.2, random_state=42)\n",
    "# Create a Gradient Boosting Classifier model\n",
    "model = GradientBoostingClassifier(n_estimators=100, learning_rate=0.1, random_state=42)\n",
    "# Train the model\n",
    "model.fit(X_train, y_train)\n",
    "# Make predictions on the test set\n",
    "y_pred = model.predict(X_test)\n",
    "# Evaluate the model\n",
    "print(confusion_matrix(y_test, y_pred))\n",
    "print(classification_report(y_test, y_pred))"
   ]
  },
  {
   "cell_type": "code",
   "execution_count": 73,
   "metadata": {},
   "outputs": [],
   "source": [
    "from sklearn.preprocessing import StandardScaler\n",
    "# Create an instance of the StandardScaler\n",
    "scaler = StandardScaler()"
   ]
  },
  {
   "cell_type": "code",
   "execution_count": 74,
   "metadata": {},
   "outputs": [],
   "source": [
    "from sklearn.neural_network import MLPClassifier\n",
    "# Create an instance of the MLPClassifier\n",
    "model = MLPClassifier(hidden_layer_sizes=(100,), max_iter=1000, random_state=42)"
   ]
  },
  {
   "cell_type": "code",
   "execution_count": 75,
   "metadata": {},
   "outputs": [
    {
     "name": "stdout",
     "output_type": "stream",
     "text": [
      "[[42  1  0  3  4  0]\n",
      " [ 3 43  8  3  3  1]\n",
      " [ 1  0 16  2  9  7]\n",
      " [ 0  1  1 22  1  6]\n",
      " [ 1  2  1  1 23  3]\n",
      " [ 1  2  5  3  1 80]]\n",
      "              precision    recall  f1-score   support\n",
      "\n",
      "           0       0.88      0.84      0.86        50\n",
      "         100       0.88      0.70      0.78        61\n",
      "         120       0.52      0.46      0.48        35\n",
      "         130       0.65      0.71      0.68        31\n",
      "         150       0.56      0.74      0.64        31\n",
      "         340       0.82      0.87      0.85        92\n",
      "\n",
      "    accuracy                           0.75       300\n",
      "   macro avg       0.72      0.72      0.71       300\n",
      "weighted avg       0.76      0.75      0.75       300\n",
      "\n"
     ]
    }
   ],
   "source": [
    "# Preprocess the data, e.g., handle missing values, convert categorical variables to numerical, etc.\n",
    "# Select relevant features and target variable\n",
    "X = df[['FastagID', 'Vehicle Type']]  # Features\n",
    "y = df['Transaction Amount']  # Target variable\n",
    "# Convert categorical features to numerical using one-hot encoding\n",
    "X = p.get_dummies(X, columns=['FastagID', 'Vehicle Type'], drop_first=True)\n",
    "# Split the data into training and testing sets\n",
    "X_train, X_test, y_train, y_test = train_test_split(X, y, test_size=0.2, random_state=42)\n",
    "# Standardize the data (important for neural networks)\n",
    "scaler = StandardScaler()\n",
    "X_train_scaled = scaler.fit_transform(X_train)\n",
    "X_test_scaled = scaler.transform(X_test)\n",
    "# Create a Multi-layer Perceptron (MLP) Classifier model\n",
    "model = MLPClassifier(hidden_layer_sizes=(100,), max_iter=1000, random_state=42)\n",
    "# Train the model\n",
    "model.fit(X_train_scaled, y_train)\n",
    "# Make predictions on the test set\n",
    "y_pred = model.predict(X_test_scaled)\n",
    "# Evaluate the model\n",
    "print(confusion_matrix(y_test, y_pred))\n",
    "print(classification_report(y_test, y_pred))"
   ]
  },
  {
   "cell_type": "code",
   "execution_count": 77,
   "metadata": {},
   "outputs": [],
   "source": [
    "from sklearn.ensemble import RandomForestClassifier"
   ]
  },
  {
   "cell_type": "code",
   "execution_count": 78,
   "metadata": {},
   "outputs": [
    {
     "name": "stdout",
     "output_type": "stream",
     "text": [
      "[[50  0  0  0  0  0]\n",
      " [ 0 46  7  4  4  0]\n",
      " [ 0  0 24  1  6  4]\n",
      " [ 0  0  0 30  0  1]\n",
      " [ 0  1  0  0 29  1]\n",
      " [ 0  0  0  0  1 91]]\n",
      "              precision    recall  f1-score   support\n",
      "\n",
      "           0       1.00      1.00      1.00        50\n",
      "         100       0.98      0.75      0.85        61\n",
      "         120       0.77      0.69      0.73        35\n",
      "         130       0.86      0.97      0.91        31\n",
      "         150       0.72      0.94      0.82        31\n",
      "         340       0.94      0.99      0.96        92\n",
      "\n",
      "    accuracy                           0.90       300\n",
      "   macro avg       0.88      0.89      0.88       300\n",
      "weighted avg       0.91      0.90      0.90       300\n",
      "\n"
     ]
    }
   ],
   "source": [
    "# Preprocess the data, e.g., handle missing values, convert categorical variables to numerical, etc.\n",
    "# Select relevant features and target variable\n",
    "X = df[['FastagID', 'Vehicle Type']]  # Features\n",
    "y = df['Transaction Amount']  # Target variable\n",
    "# Convert categorical features to numerical using one-hot encoding\n",
    "X = p.get_dummies(X, columns=['FastagID', 'Vehicle Type'], drop_first=True)\n",
    "# Split the data into training and testing sets\n",
    "X_train, X_test, y_train, y_test = train_test_split(X, y, test_size=0.2, random_state=42)\n",
    "# Create a Random Forest Classifier model\n",
    "model = RandomForestClassifier(n_estimators=100, random_state=42)\n",
    "# Train the model\n",
    "model.fit(X_train, y_train)\n",
    "# Make predictions on the test set\n",
    "y_pred = model.predict(X_test)\n",
    "# Evaluate the model\n",
    "print(confusion_matrix(y_test, y_pred))\n",
    "print(classification_report(y_test, y_pred))\n"
   ]
  },
  {
   "cell_type": "code",
   "execution_count": 76,
   "metadata": {},
   "outputs": [],
   "source": [
    "from sklearn.metrics import accuracy_score\n",
    "from sklearn.metrics import precision_score\n",
    "from sklearn.metrics import recall_score\n",
    "from sklearn.metrics import f1_score"
   ]
  },
  {
   "cell_type": "code",
   "execution_count": 96,
   "metadata": {},
   "outputs": [
    {
     "name": "stdout",
     "output_type": "stream",
     "text": [
      "Logistic Regression Metrics:\n",
      "Accuracy: 0.9067\n",
      "Precision: 0.9067\n",
      "Recall: 0.9067\n",
      "F1 Score: 0.9067\n",
      "\n",
      "\n",
      "Random Forest Metrics:\n",
      "Accuracy: 0.9000\n",
      "Precision: 0.9000\n",
      "Recall: 0.9000\n",
      "F1 Score: 0.9000\n",
      "\n",
      "\n",
      "Gradient Boosting Metrics:\n",
      "Accuracy: 0.9000\n",
      "Precision: 0.9000\n",
      "Recall: 0.9000\n",
      "F1 Score: 0.9000\n",
      "\n",
      "\n",
      "MLP Metrics:\n",
      "Accuracy: 0.8833\n",
      "Precision: 0.8833\n",
      "Recall: 0.8833\n",
      "F1 Score: 0.8833\n",
      "\n",
      "\n",
      "SVC Metrics:\n",
      "Accuracy: 0.9067\n",
      "Precision: 0.9067\n",
      "Recall: 0.9067\n",
      "F1 Score: 0.9067\n",
      "\n",
      "\n",
      "DecisionTreeClassifier Metrics:\n",
      "Accuracy: 0.9000\n",
      "Precision: 0.9000\n",
      "Recall: 0.9000\n",
      "F1 Score: 0.9000\n",
      "\n",
      "\n"
     ]
    }
   ],
   "source": [
    "from sklearn.model_selection import train_test_split\n",
    "from sklearn.linear_model import LogisticRegression\n",
    "from sklearn.ensemble import RandomForestClassifier, GradientBoostingClassifier\n",
    "from sklearn.neural_network import MLPClassifier\n",
    "from sklearn.svm import SVC\n",
    "from sklearn.metrics import accuracy_score, precision_score, recall_score, f1_score\n",
    "\n",
    "# Preprocess the data, e.g., handle missing values, convert categorical variables to numerical, etc.\n",
    "# Select relevant features and target variable\n",
    "X = df[['FastagID', 'Vehicle Type']]  # Features\n",
    "y = df['Transaction Amount']  # Target variable\n",
    "# Convert categorical features to numerical using one-hot encoding\n",
    "X = p.get_dummies(X, columns=['FastagID', 'Vehicle Type'], drop_first=True)\n",
    "\n",
    "# Split the data into training and testing sets\n",
    "X_train, X_test, y_train, y_test = train_test_split(X, y, test_size=0.2, random_state=42)\n",
    "\n",
    "# Logistic Regression\n",
    "lr_model = LogisticRegression()\n",
    "lr_model.fit(X_train, y_train)\n",
    "lr_predictions = lr_model.predict(X_test)\n",
    "\n",
    "# Decision Tree\n",
    "dt_model = DecisionTreeClassifier()\n",
    "dt_model.fit(X_train, y_train)\n",
    "dt_predictions = dt_model.predict(X_test)\n",
    "\n",
    "# Random Forest\n",
    "rf_model = RandomForestClassifier()\n",
    "rf_model.fit(X_train, y_train)\n",
    "rf_predictions = rf_model.predict(X_test)\n",
    "\n",
    "# Gradient Boosting\n",
    "gb_model = GradientBoostingClassifier()\n",
    "gb_model.fit(X_train, y_train)\n",
    "gb_predictions = gb_model.predict(X_test)\n",
    "\n",
    "# MLP (Multi-Layer Perceptron)\n",
    "mlp_model = MLPClassifier()\n",
    "mlp_model.fit(X_train, y_train)\n",
    "mlp_predictions = mlp_model.predict(X_test)\n",
    "\n",
    "# Support Vector Classifier (SVC)\n",
    "svc_model = SVC()\n",
    "svc_model.fit(X_train, y_train)\n",
    "svc_predictions = svc_model.predict(X_test)\n",
    "\n",
    "# Evaluate and print metrics for each model\n",
    "models = [lr_predictions, rf_predictions, gb_predictions, mlp_predictions, svc_predictions, dt_predictions]\n",
    "model_names = ['Logistic Regression', 'Random Forest', 'Gradient Boosting', 'MLP', 'SVC','DecisionTreeClassifier']\n",
    "\n",
    "for name, predictions in zip(model_names, models):\n",
    "    accuracy = accuracy_score(y_test, predictions)\n",
    "    precision = precision_score(y_test, predictions, average='micro')  # Choose 'micro', 'macro', or 'weighted'\n",
    "    recall = recall_score(y_test, predictions, average='micro')  # Choose 'micro', 'macro', or 'weighted'\n",
    "    f1 = f1_score(y_test, predictions, average='micro')  # Choose 'micro', 'macro', or 'weighted'\n",
    "    \n",
    "    print(f\"{name} Metrics:\")\n",
    "    print(f\"Accuracy: {accuracy:.4f}\")\n",
    "    print(f\"Precision: {precision:.4f}\")\n",
    "    print(f\"Recall: {recall:.4f}\")\n",
    "    print(f\"F1 Score: {f1:.4f}\")\n",
    "    print(\"\\n\")\n"
   ]
  },
  {
   "cell_type": "code",
   "execution_count": null,
   "metadata": {},
   "outputs": [],
   "source": []
  }
 ],
 "metadata": {
  "kernelspec": {
   "display_name": "Python 3",
   "language": "python",
   "name": "python3"
  },
  "language_info": {
   "codemirror_mode": {
    "name": "ipython",
    "version": 3
   },
   "file_extension": ".py",
   "mimetype": "text/x-python",
   "name": "python",
   "nbconvert_exporter": "python",
   "pygments_lexer": "ipython3",
   "version": "3.11.4"
  }
 },
 "nbformat": 4,
 "nbformat_minor": 2
}
